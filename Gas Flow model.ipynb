{
 "cells": [
  {
   "cell_type": "markdown",
   "metadata": {},
   "source": [
    "## Modelling of gas flow into Bacton via Interconnector pipeline"
   ]
  },
  {
   "cell_type": "markdown",
   "metadata": {},
   "source": [
    "First we import required libraries."
   ]
  },
  {
   "cell_type": "code",
   "execution_count": 50,
   "metadata": {},
   "outputs": [],
   "source": [
    "import pandas as pd\n",
    "import math\n",
    "import matplotlib.pyplot as plt\n",
    "import numpy as np\n",
    "from sklearn import datasets, linear_model\n",
    "from sklearn.metrics import mean_squared_error, r2_score"
   ]
  },
  {
   "cell_type": "markdown",
   "metadata": {},
   "source": [
    "Get flow data from interconnector website and merge into a single dataframe."
   ]
  },
  {
   "cell_type": "code",
   "execution_count": 51,
   "metadata": {},
   "outputs": [],
   "source": [
    "df2016 = pd.read_csv(\"http://www.interconnector.com/Data/ISIS/flowdata/interconnector_flow_data_2016.csv\", skiprows=1)\n",
    "df2017 = pd.read_csv(\"http://www.interconnector.com/Data/ISIS/flowdata/interconnector_flow_data_2017.csv\", skiprows=1)\n",
    "dfflow = df2016.append(df2017)\n",
    "dfflow = dfflow.drop_duplicates()"
   ]
  },
  {
   "cell_type": "markdown",
   "metadata": {},
   "source": [
    "Convert dates to datetime objects:"
   ]
  },
  {
   "cell_type": "code",
   "execution_count": 52,
   "metadata": {},
   "outputs": [],
   "source": [
    "dfflow = dfflow.rename(columns={'Gas Day ':'Date'})\n",
    "date_cols = ['Date']\n",
    "for i in date_cols:\n",
    "    dfflow[i] = pd.to_datetime(dfflow[i], format='%d-%b-%Y')"
   ]
  },
  {
   "cell_type": "markdown",
   "metadata": {},
   "source": [
    "Get price data from excel sheet provided and examine data."
   ]
  },
  {
   "cell_type": "code",
   "execution_count": 53,
   "metadata": {},
   "outputs": [
    {
     "data": {
      "text/html": [
       "<div>\n",
       "<style scoped>\n",
       "    .dataframe tbody tr th:only-of-type {\n",
       "        vertical-align: middle;\n",
       "    }\n",
       "\n",
       "    .dataframe tbody tr th {\n",
       "        vertical-align: top;\n",
       "    }\n",
       "\n",
       "    .dataframe thead th {\n",
       "        text-align: right;\n",
       "    }\n",
       "</style>\n",
       "<table border=\"1\" class=\"dataframe\">\n",
       "  <thead>\n",
       "    <tr style=\"text-align: right;\">\n",
       "      <th></th>\n",
       "      <th>Date</th>\n",
       "      <th>NBP Price</th>\n",
       "      <th>TTF Price</th>\n",
       "      <th>GBPUSD</th>\n",
       "      <th>EURUSD</th>\n",
       "    </tr>\n",
       "  </thead>\n",
       "  <tbody>\n",
       "    <tr>\n",
       "      <th>0</th>\n",
       "      <td>2016-10-04</td>\n",
       "      <td>33.75</td>\n",
       "      <td>12.50</td>\n",
       "      <td>1.2728</td>\n",
       "      <td>1.1204</td>\n",
       "    </tr>\n",
       "    <tr>\n",
       "      <th>1</th>\n",
       "      <td>2016-10-05</td>\n",
       "      <td>35.40</td>\n",
       "      <td>13.82</td>\n",
       "      <td>1.2749</td>\n",
       "      <td>1.1205</td>\n",
       "    </tr>\n",
       "    <tr>\n",
       "      <th>2</th>\n",
       "      <td>2016-10-06</td>\n",
       "      <td>37.35</td>\n",
       "      <td>14.95</td>\n",
       "      <td>1.2616</td>\n",
       "      <td>1.1151</td>\n",
       "    </tr>\n",
       "    <tr>\n",
       "      <th>3</th>\n",
       "      <td>2016-10-07</td>\n",
       "      <td>40.45</td>\n",
       "      <td>15.38</td>\n",
       "      <td>1.2434</td>\n",
       "      <td>1.1201</td>\n",
       "    </tr>\n",
       "    <tr>\n",
       "      <th>4</th>\n",
       "      <td>2016-10-08</td>\n",
       "      <td>42.30</td>\n",
       "      <td>15.45</td>\n",
       "      <td>NaN</td>\n",
       "      <td>NaN</td>\n",
       "    </tr>\n",
       "    <tr>\n",
       "      <th>5</th>\n",
       "      <td>2016-10-09</td>\n",
       "      <td>42.30</td>\n",
       "      <td>15.45</td>\n",
       "      <td>NaN</td>\n",
       "      <td>NaN</td>\n",
       "    </tr>\n",
       "    <tr>\n",
       "      <th>6</th>\n",
       "      <td>2016-10-10</td>\n",
       "      <td>42.30</td>\n",
       "      <td>15.45</td>\n",
       "      <td>1.2362</td>\n",
       "      <td>1.1139</td>\n",
       "    </tr>\n",
       "    <tr>\n",
       "      <th>7</th>\n",
       "      <td>2016-10-11</td>\n",
       "      <td>41.00</td>\n",
       "      <td>15.60</td>\n",
       "      <td>1.2123</td>\n",
       "      <td>1.1054</td>\n",
       "    </tr>\n",
       "    <tr>\n",
       "      <th>8</th>\n",
       "      <td>2016-10-12</td>\n",
       "      <td>41.50</td>\n",
       "      <td>15.55</td>\n",
       "      <td>1.2204</td>\n",
       "      <td>1.1007</td>\n",
       "    </tr>\n",
       "    <tr>\n",
       "      <th>9</th>\n",
       "      <td>2016-10-13</td>\n",
       "      <td>41.50</td>\n",
       "      <td>15.35</td>\n",
       "      <td>1.2254</td>\n",
       "      <td>1.1056</td>\n",
       "    </tr>\n",
       "  </tbody>\n",
       "</table>\n",
       "</div>"
      ],
      "text/plain": [
       "        Date  NBP Price  TTF Price  GBPUSD  EURUSD\n",
       "0 2016-10-04      33.75      12.50  1.2728  1.1204\n",
       "1 2016-10-05      35.40      13.82  1.2749  1.1205\n",
       "2 2016-10-06      37.35      14.95  1.2616  1.1151\n",
       "3 2016-10-07      40.45      15.38  1.2434  1.1201\n",
       "4 2016-10-08      42.30      15.45     NaN     NaN\n",
       "5 2016-10-09      42.30      15.45     NaN     NaN\n",
       "6 2016-10-10      42.30      15.45  1.2362  1.1139\n",
       "7 2016-10-11      41.00      15.60  1.2123  1.1054\n",
       "8 2016-10-12      41.50      15.55  1.2204  1.1007\n",
       "9 2016-10-13      41.50      15.35  1.2254  1.1056"
      ]
     },
     "execution_count": 53,
     "metadata": {},
     "output_type": "execute_result"
    }
   ],
   "source": [
    "dfprices = pd.read_excel(\"data.xlsx\")\n",
    "dfprices.head(10)"
   ]
  },
  {
   "cell_type": "markdown",
   "metadata": {},
   "source": [
    "We realize that exchange rates are missing on weekends. It is reasonable to do a linear interpolation:"
   ]
  },
  {
   "cell_type": "code",
   "execution_count": 54,
   "metadata": {},
   "outputs": [],
   "source": [
    "dfprices['GBPUSD'] = dfprices['GBPUSD'].interpolate()\n",
    "dfprices['EURUSD'] = dfprices['EURUSD'].interpolate()"
   ]
  },
  {
   "cell_type": "markdown",
   "metadata": {},
   "source": [
    "Now merge flow data with price data, and manipulate to get price differential in USD."
   ]
  },
  {
   "cell_type": "code",
   "execution_count": 55,
   "metadata": {},
   "outputs": [],
   "source": [
    "df = dfflow.merge(dfprices,on='Date',how='inner') \n",
    "\n",
    "# Convert all prices to USD\n",
    "df['UK Price'] = df['NBP Price']*df['GBPUSD'] \n",
    "df['EU Price'] = df['TTF Price']*df['EURUSD'] \n",
    "\n",
    "# Get price differential\n",
    "df['Price Diff'] = df['UK Price']-df['EU Price']"
   ]
  },
  {
   "cell_type": "markdown",
   "metadata": {},
   "source": [
    "There are some observations where daily flow is 0 (Outage). We drop these observations so that the model is more representative of usual operations."
   ]
  },
  {
   "cell_type": "code",
   "execution_count": 56,
   "metadata": {},
   "outputs": [],
   "source": [
    "df = df.replace({0:None})\n",
    "df = df.dropna()"
   ]
  },
  {
   "cell_type": "markdown",
   "metadata": {},
   "source": [
    "Now we can perform a simple (single variable) linear regression. We first separate a train set and test set."
   ]
  },
  {
   "cell_type": "code",
   "execution_count": 65,
   "metadata": {},
   "outputs": [
    {
     "name": "stdout",
     "output_type": "stream",
     "text": [
      "Coefficients: \n",
      " [-44533892.59849727]\n",
      "Mean squared error: 41462097199477296.00\n",
      "R^2: 0.72985\n"
     ]
    }
   ],
   "source": [
    "df = df.sample(frac=1)\n",
    "X = df['Price Diff'].values.reshape(-1,1)\n",
    "X_train = X[:-50]\n",
    "X_test = X[-50:]\n",
    "Y = df['Daily Flow (kWh)']\n",
    "Y_train = Y[:-50]\n",
    "Y_test = Y[-50:]\n",
    "\n",
    "\n",
    "regr = linear_model.LinearRegression()\n",
    "regr.fit(X_train,Y_train)\n",
    "\n",
    "Y_pred = regr.predict(X_test)\n",
    "\n",
    "# Print regression results and metrics\n",
    "print('Coefficients: \\n', regr.coef_)\n",
    "print(\"Mean squared error: %.2f\"\n",
    "      % mean_squared_error(Y_test, Y_pred))\n",
    "print('R^2: %.5f' % r2_score(Y_test, Y_pred))"
   ]
  },
  {
   "cell_type": "markdown",
   "metadata": {},
   "source": [
    "Visualizing the results:"
   ]
  },
  {
   "cell_type": "code",
   "execution_count": 66,
   "metadata": {},
   "outputs": [
    {
     "data": {
      "text/plain": [
       "Text(0,0.5,'Daily Flow (kWh)')"
      ]
     },
     "execution_count": 66,
     "metadata": {},
     "output_type": "execute_result"
    },
    {
     "data": {
      "image/png": "[encoded data removed]",
      "text/plain": [
       "<matplotlib.figure.Figure at 0xa4fc234978>"
      ]
     },
     "metadata": {},
     "output_type": "display_data"
    }
   ],
   "source": [
    "Y_pred_all = regr.predict(X) #Look at the whole data set\n",
    "plt.scatter(X,Y,color='black',s=0.5)\n",
    "plt.plot(X,Y_pred_all,color='blue', linewidth=1)\n",
    "plt.xlabel('Price differential (USD)')\n",
    "plt.ylabel('Daily Flow (kWh)')"
   ]
  },
  {
   "cell_type": "code",
   "execution_count": 68,
   "metadata": {},
   "outputs": [
    {
     "data": {
      "text/plain": [
       "Text(0,0.5,'Daily Flow (kWh)')"
      ]
     },
     "execution_count": 68,
     "metadata": {},
     "output_type": "execute_result"
    },
    {
     "data": {
      "image/png": "[encoded data removed]",
      "text/plain": [
       "<matplotlib.figure.Figure at 0xa4fbeb31d0>"
      ]
     },
     "metadata": {},
     "output_type": "display_data"
    }
   ],
   "source": [
    "Y_pred_test = regr.predict(X_test) #Look only at test set\n",
    "plt.scatter(X_test,Y_test,color='black',s=0.5)\n",
    "plt.plot(X_test,Y_pred_test,color='blue', linewidth=1)\n",
    "plt.xlabel('Price differential (USD)')\n",
    "plt.ylabel('Daily Flow (kWh)')"
   ]
  },
  {
   "cell_type": "markdown",
   "metadata": {},
   "source": [
    "### Part 2: Adding to the model"
   ]
  },
  {
   "cell_type": "markdown",
   "metadata": {},
   "source": [
    "Visualizing the gas flow trend over time, we observe some seasonality in the data:"
   ]
  },
  {
   "cell_type": "code",
   "execution_count": 59,
   "metadata": {},
   "outputs": [
    {
     "data": {
      "text/plain": [
       "[<matplotlib.lines.Line2D at 0xa4fbda04e0>]"
      ]
     },
     "execution_count": 59,
     "metadata": {},
     "output_type": "execute_result"
    },
    {
     "data": {
      "image/png": "[encoded data removed]",
      "text/plain": [
       "<matplotlib.figure.Figure at 0xa4fbd8d5f8>"
      ]
     },
     "metadata": {},
     "output_type": "display_data"
    }
   ],
   "source": [
    "plt.plot(df['Date'],df['Daily Flow (kWh)'])"
   ]
  },
  {
   "cell_type": "markdown",
   "metadata": {},
   "source": [
    "High inflows correspond to summer months, low inflows to winter months. We can reasonably use temperature as a regressor to predict flow rate. We obtain temperature.csv from the National Oceanic and Atmospheric Administration."
   ]
  },
  {
   "cell_type": "code",
   "execution_count": 60,
   "metadata": {},
   "outputs": [],
   "source": [
    "dftemp = pd.read_csv('temperature.csv')\n",
    "\n",
    "dftemp = dftemp.rename(columns={'DATE':'Date'})\n",
    "dftemp = dftemp[['Date','TAVG']]\n",
    "date_cols = ['Date']\n",
    "for i in date_cols:\n",
    "    dftemp[i] = pd.to_datetime(dftemp[i], format='%Y-%m-%d')\n",
    "    \n",
    "df = dftemp.merge(df,on='Date',how='inner') "
   ]
  },
  {
   "cell_type": "markdown",
   "metadata": {},
   "source": [
    "The system average price (SAP) within the UK might also help (obtained from National Grid)."
   ]
  },
  {
   "cell_type": "code",
   "execution_count": 61,
   "metadata": {},
   "outputs": [],
   "source": [
    "dfSAP = pd.read_csv('SAP.csv')\n",
    "dfSAP = dfSAP.rename(columns={'Applicable For':'Date', 'Value':'SAP'})\n",
    "dfSAP = dfSAP[['Date','SAP']]\n",
    "dfSAP = dfSAP.drop_duplicates()\n",
    "\n",
    "\n",
    "date_cols = ['Date']\n",
    "for i in date_cols:\n",
    "    dfSAP[i] = pd.to_datetime(dfSAP[i], format='%d/%m/%Y')\n",
    "    \n",
    "df = dfSAP.merge(df,on='Date',how='inner') "
   ]
  },
  {
   "cell_type": "markdown",
   "metadata": {},
   "source": [
    "To verify that they may help explain gas flow, we look at the correlations:"
   ]
  },
  {
   "cell_type": "code",
   "execution_count": 62,
   "metadata": {},
   "outputs": [
    {
     "data": {
      "text/plain": [
       "<matplotlib.collections.PathCollection at 0xa4fbd5e6d8>"
      ]
     },
     "execution_count": 62,
     "metadata": {},
     "output_type": "execute_result"
    },
    {
     "data": {
      "image/png": "[encoded data removed]",
      "text/plain": [
       "<matplotlib.figure.Figure at 0xa4fbd8ec88>"
      ]
     },
     "metadata": {},
     "output_type": "display_data"
    }
   ],
   "source": [
    "plt.scatter(df['TAVG'],df['Daily Flow (kWh)'])"
   ]
  },
  {
   "cell_type": "code",
   "execution_count": 63,
   "metadata": {},
   "outputs": [
    {
     "data": {
      "text/plain": [
       "<matplotlib.collections.PathCollection at 0xa4fc2233c8>"
      ]
     },
     "execution_count": 63,
     "metadata": {},
     "output_type": "execute_result"
    },
    {
     "data": {
      "image/png": "[encoded data removed]",
      "text/plain": [
       "<matplotlib.figure.Figure at 0xa4fbe0bc50>"
      ]
     },
     "metadata": {},
     "output_type": "display_data"
    }
   ],
   "source": [
    "plt.scatter(df['SAP'],df['Daily Flow (kWh)'])"
   ]
  },
  {
   "cell_type": "markdown",
   "metadata": {},
   "source": [
    "Fit a linear regression model using these additional variables:"
   ]
  },
  {
   "cell_type": "code",
   "execution_count": 122,
   "metadata": {},
   "outputs": [
    {
     "name": "stdout",
     "output_type": "stream",
     "text": [
      "Coefficients: \n",
      " [-3.60465843e+07  2.12310376e+07  3.57326996e+08]\n",
      "Mean squared error: 21008393056827488.00\n",
      "R^2: 0.80188\n"
     ]
    }
   ],
   "source": [
    "df = df.sample(frac=1)\n",
    "X = df[['Price Diff','TAVG','SAP']]\n",
    "X_train = X[:-50]\n",
    "X_test = X[-50:]\n",
    "Y = df['Daily Flow (kWh)']\n",
    "Y_train = Y[:-50]\n",
    "Y_test = Y[-50:]\n",
    "\n",
    "\n",
    "regr = linear_model.LinearRegression()\n",
    "regr.fit(X_train,Y_train)\n",
    "\n",
    "Y_pred = regr.predict(X_test)\n",
    "\n",
    "# Print regression results and metrics\n",
    "print('Coefficients: \\n', regr.coef_)\n",
    "print(\"Mean squared error: %.2f\"\n",
    "      % mean_squared_error(Y_test, Y_pred))\n",
    "print('R^2: %.5f' % r2_score(Y_test, Y_pred))"
   ]
  },
  {
   "cell_type": "markdown",
   "metadata": {},
   "source": [
    "This is already an improvement over the first model (R^2 = 0.802 > 0.720). Plotting SAP against Price Diff, we realise that they are highly correlated:"
   ]
  },
  {
   "cell_type": "code",
   "execution_count": 80,
   "metadata": {},
   "outputs": [
    {
     "data": {
      "text/plain": [
       "<matplotlib.collections.PathCollection at 0xa4fbf74f60>"
      ]
     },
     "execution_count": 80,
     "metadata": {},
     "output_type": "execute_result"
    },
    {
     "data": {
      "image/png": "[encoded data removed]",
      "text/plain": [
       "<matplotlib.figure.Figure at 0xa4fbe7bc50>"
      ]
     },
     "metadata": {},
     "output_type": "display_data"
    }
   ],
   "source": [
    "plt.scatter(df['SAP'],df['Price Diff'])"
   ]
  },
  {
   "cell_type": "markdown",
   "metadata": {},
   "source": [
    "The model might generalize better if we drop one of the variables."
   ]
  },
  {
   "cell_type": "code",
   "execution_count": 118,
   "metadata": {},
   "outputs": [
    {
     "name": "stdout",
     "output_type": "stream",
     "text": [
      "Coefficients: \n",
      " [-27213066.63966488  19244539.25125986]\n",
      "Mean squared error: 27617239640034780.00\n",
      "R^2: 0.83614\n"
     ]
    }
   ],
   "source": [
    "df = df.sample(frac=1)\n",
    "X = df[['Price Diff','TAVG']]\n",
    "X_train = X[:-50]\n",
    "X_test = X[-50:]\n",
    "Y = df['Daily Flow (kWh)']\n",
    "Y_train = Y[:-50]\n",
    "Y_test = Y[-50:]\n",
    "\n",
    "\n",
    "regr = linear_model.LinearRegression()\n",
    "regr.fit(X_train,Y_train)\n",
    "\n",
    "Y_pred = regr.predict(X_test)\n",
    "\n",
    "# Print regression results and metrics\n",
    "print('Coefficients: \\n', regr.coef_)\n",
    "print(\"Mean squared error: %.2f\"\n",
    "      % mean_squared_error(Y_test, Y_pred))\n",
    "print('R^2: %.5f' % r2_score(Y_test, Y_pred))"
   ]
  },
  {
   "cell_type": "markdown",
   "metadata": {},
   "source": [
    "Indeed it appears to, and the coefficients for the regressors are smaller as well."
   ]
  }
 ],
 "metadata": {
  "kernelspec": {
   "display_name": "Python 3",
   "language": "python",
   "name": "python3"
  },
  "language_info": {
   "codemirror_mode": {
    "name": "ipython",
    "version": 3
   },
   "file_extension": ".py",
   "mimetype": "text/x-python",
   "name": "python",
   "nbconvert_exporter": "python",
   "pygments_lexer": "ipython3",
   "version": "3.6.4"
  }
 },
 "nbformat": 4,
 "nbformat_minor": 2
}
